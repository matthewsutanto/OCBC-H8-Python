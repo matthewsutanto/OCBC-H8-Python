{
 "cells": [
  {
   "cell_type": "code",
   "execution_count": 3,
   "id": "3777560a",
   "metadata": {},
   "outputs": [
    {
     "name": "stdout",
     "output_type": "stream",
     "text": [
      "Enter how many number you will input ? = 5\n",
      "Number when the variable will be stop ? = 3\n",
      "Enter number for index-1= 1\n",
      "Enter number for index-2= 2\n",
      "Enter number for index-3= 4\n",
      "Enter number for index-4= 3\n",
      "Enter number for index-5= 6\n",
      "2\n",
      "4\n",
      "Done\n"
     ]
    }
   ],
   "source": [
    "iteration = int(input(\"Enter how many number you will input ? = \"))\n",
    "stopNumber = int(input(\"Number when the variable will be stop ? = \"))\n",
    "numberValue = []\n",
    "\n",
    "for x in range(iteration):\n",
    "    number = str(x+1)\n",
    "    numberValue.append(int(input(\"Enter number for index-\"+number+\"= \")))\n",
    "isFinish = False   \n",
    "i = 0\n",
    "while not isFinish and i<=iteration:\n",
    "    if numberValue[i]==stopNumber:\n",
    "        isFinish = True\n",
    "        print(\"Done\")\n",
    "    elif numberValue[i]%2==0:\n",
    "        print(numberValue[i])\n",
    "    i+=1\n",
    "if isFinish==False:\n",
    "    print(\"Stop number isn't found in list\")"
   ]
  },
  {
   "cell_type": "code",
   "execution_count": null,
   "id": "ff56d9d4",
   "metadata": {},
   "outputs": [],
   "source": []
  }
 ],
 "metadata": {
  "kernelspec": {
   "display_name": "Python 3 (ipykernel)",
   "language": "python",
   "name": "python3"
  },
  "language_info": {
   "codemirror_mode": {
    "name": "ipython",
    "version": 3
   },
   "file_extension": ".py",
   "mimetype": "text/x-python",
   "name": "python",
   "nbconvert_exporter": "python",
   "pygments_lexer": "ipython3",
   "version": "3.8.0"
  }
 },
 "nbformat": 4,
 "nbformat_minor": 5
}
